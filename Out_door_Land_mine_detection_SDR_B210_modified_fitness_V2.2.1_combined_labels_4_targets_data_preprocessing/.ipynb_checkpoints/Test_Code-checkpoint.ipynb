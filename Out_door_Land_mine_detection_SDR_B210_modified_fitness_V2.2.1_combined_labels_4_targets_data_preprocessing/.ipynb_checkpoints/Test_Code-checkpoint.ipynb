{
 "cells": [
  {
   "cell_type": "code",
   "execution_count": 1,
   "metadata": {},
   "outputs": [],
   "source": [
    "# library for GA\n",
    "import random\n",
    "\n",
    "from deap import base\n",
    "from deap import creator\n",
    "from deap import tools\n",
    "from deap import algorithms\n",
    "\n",
    "# library for RF\n",
    "import numpy as np\n",
    "\n",
    "from sklearn.model_selection import train_test_split\n",
    "from sklearn.datasets import load_iris\n",
    "from sklearn.tree import DecisionTreeClassifier\n",
    "from sklearn.ensemble import RandomForestClassifier\n",
    "from sklearn.metrics import accuracy_score, confusion_matrix\n",
    "\n",
    "\n",
    "import pandas as pd\n",
    "from seaborn import violinplot\n",
    "import seaborn as sns"
   ]
  },
  {
   "cell_type": "code",
   "execution_count": 2,
   "metadata": {},
   "outputs": [],
   "source": [
    "spectrum_data = pd.read_excel('./spectrum_data/MIne_Nothing_Rock.xlsx',  sep = ',', header = 0)"
   ]
  },
  {
   "cell_type": "code",
   "execution_count": 3,
   "metadata": {},
   "outputs": [
    {
     "data": {
      "text/html": [
       "<div>\n",
       "<style scoped>\n",
       "    .dataframe tbody tr th:only-of-type {\n",
       "        vertical-align: middle;\n",
       "    }\n",
       "\n",
       "    .dataframe tbody tr th {\n",
       "        vertical-align: top;\n",
       "    }\n",
       "\n",
       "    .dataframe thead th {\n",
       "        text-align: right;\n",
       "    }\n",
       "</style>\n",
       "<table border=\"1\" class=\"dataframe\">\n",
       "  <thead>\n",
       "    <tr style=\"text-align: right;\">\n",
       "      <th></th>\n",
       "      <th>Signal_Path</th>\n",
       "      <th>Frequency_0</th>\n",
       "      <th>Frequency_0dot32541</th>\n",
       "      <th>Frequency_0dot65083</th>\n",
       "      <th>Frequency_0dot97624</th>\n",
       "      <th>Frequency_1dot3017</th>\n",
       "      <th>Frequency_1dot6271</th>\n",
       "      <th>Frequency_1dot9525</th>\n",
       "      <th>Frequency_2dot2779</th>\n",
       "      <th>Frequency_2dot6033</th>\n",
       "      <th>...</th>\n",
       "      <th>Frequency_497dot234</th>\n",
       "      <th>Frequency_497dot5594</th>\n",
       "      <th>Frequency_497dot8848</th>\n",
       "      <th>Frequency_498dot2102</th>\n",
       "      <th>Frequency_498dot5356</th>\n",
       "      <th>Frequency_498dot861</th>\n",
       "      <th>Frequency_499dot1865</th>\n",
       "      <th>Frequency_499dot5119</th>\n",
       "      <th>Frequency_499dot8373</th>\n",
       "      <th>Label</th>\n",
       "    </tr>\n",
       "  </thead>\n",
       "  <tbody>\n",
       "    <tr>\n",
       "      <th>0</th>\n",
       "      <td>1</td>\n",
       "      <td>-1.459259</td>\n",
       "      <td>-4.532056</td>\n",
       "      <td>-32.680765</td>\n",
       "      <td>-34.772452</td>\n",
       "      <td>-37.362220</td>\n",
       "      <td>-41.463815</td>\n",
       "      <td>-41.809600</td>\n",
       "      <td>-41.411157</td>\n",
       "      <td>-42.444672</td>\n",
       "      <td>...</td>\n",
       "      <td>-92.727267</td>\n",
       "      <td>-94.206407</td>\n",
       "      <td>-95.049497</td>\n",
       "      <td>-92.151649</td>\n",
       "      <td>-94.120509</td>\n",
       "      <td>-95.140720</td>\n",
       "      <td>-91.976042</td>\n",
       "      <td>-88.533568</td>\n",
       "      <td>-91.717852</td>\n",
       "      <td>1</td>\n",
       "    </tr>\n",
       "    <tr>\n",
       "      <th>1</th>\n",
       "      <td>1</td>\n",
       "      <td>4.928653</td>\n",
       "      <td>1.957394</td>\n",
       "      <td>-35.392737</td>\n",
       "      <td>-42.128736</td>\n",
       "      <td>-46.621402</td>\n",
       "      <td>-53.255708</td>\n",
       "      <td>-56.017699</td>\n",
       "      <td>-59.087885</td>\n",
       "      <td>-62.249034</td>\n",
       "      <td>...</td>\n",
       "      <td>-88.354186</td>\n",
       "      <td>-88.465816</td>\n",
       "      <td>-85.997244</td>\n",
       "      <td>-87.914434</td>\n",
       "      <td>-88.387158</td>\n",
       "      <td>-89.374889</td>\n",
       "      <td>-87.190449</td>\n",
       "      <td>-88.074054</td>\n",
       "      <td>-85.246747</td>\n",
       "      <td>1</td>\n",
       "    </tr>\n",
       "    <tr>\n",
       "      <th>2</th>\n",
       "      <td>1</td>\n",
       "      <td>5.429769</td>\n",
       "      <td>2.402802</td>\n",
       "      <td>-39.912158</td>\n",
       "      <td>-40.833904</td>\n",
       "      <td>-43.269220</td>\n",
       "      <td>-44.225699</td>\n",
       "      <td>-43.763521</td>\n",
       "      <td>-44.645556</td>\n",
       "      <td>-46.069485</td>\n",
       "      <td>...</td>\n",
       "      <td>-87.576766</td>\n",
       "      <td>-92.467630</td>\n",
       "      <td>-89.857615</td>\n",
       "      <td>-86.389981</td>\n",
       "      <td>-85.861711</td>\n",
       "      <td>-88.080618</td>\n",
       "      <td>-88.199254</td>\n",
       "      <td>-89.362906</td>\n",
       "      <td>-92.505462</td>\n",
       "      <td>1</td>\n",
       "    </tr>\n",
       "    <tr>\n",
       "      <th>3</th>\n",
       "      <td>1</td>\n",
       "      <td>-8.860418</td>\n",
       "      <td>-11.892214</td>\n",
       "      <td>-40.604265</td>\n",
       "      <td>-41.491205</td>\n",
       "      <td>-46.728661</td>\n",
       "      <td>-45.278651</td>\n",
       "      <td>-46.840303</td>\n",
       "      <td>-48.153704</td>\n",
       "      <td>-48.827305</td>\n",
       "      <td>...</td>\n",
       "      <td>-88.342649</td>\n",
       "      <td>-90.868922</td>\n",
       "      <td>-88.491640</td>\n",
       "      <td>-89.537515</td>\n",
       "      <td>-89.388839</td>\n",
       "      <td>-90.235332</td>\n",
       "      <td>-90.477474</td>\n",
       "      <td>-91.199705</td>\n",
       "      <td>-89.209511</td>\n",
       "      <td>1</td>\n",
       "    </tr>\n",
       "    <tr>\n",
       "      <th>4</th>\n",
       "      <td>1</td>\n",
       "      <td>-14.143644</td>\n",
       "      <td>-17.023779</td>\n",
       "      <td>-34.837263</td>\n",
       "      <td>-43.262198</td>\n",
       "      <td>-43.991594</td>\n",
       "      <td>-47.693121</td>\n",
       "      <td>-48.950286</td>\n",
       "      <td>-45.364605</td>\n",
       "      <td>-46.008724</td>\n",
       "      <td>...</td>\n",
       "      <td>-90.700178</td>\n",
       "      <td>-93.163671</td>\n",
       "      <td>-93.431828</td>\n",
       "      <td>-90.653285</td>\n",
       "      <td>-93.611234</td>\n",
       "      <td>-90.997471</td>\n",
       "      <td>-89.479312</td>\n",
       "      <td>-87.478921</td>\n",
       "      <td>-90.607241</td>\n",
       "      <td>1</td>\n",
       "    </tr>\n",
       "  </tbody>\n",
       "</table>\n",
       "<p>5 rows × 1539 columns</p>\n",
       "</div>"
      ],
      "text/plain": [
       "   Signal_Path  Frequency_0  Frequency_0dot32541  Frequency_0dot65083  \\\n",
       "0            1    -1.459259            -4.532056           -32.680765   \n",
       "1            1     4.928653             1.957394           -35.392737   \n",
       "2            1     5.429769             2.402802           -39.912158   \n",
       "3            1    -8.860418           -11.892214           -40.604265   \n",
       "4            1   -14.143644           -17.023779           -34.837263   \n",
       "\n",
       "   Frequency_0dot97624  Frequency_1dot3017  Frequency_1dot6271  \\\n",
       "0           -34.772452          -37.362220          -41.463815   \n",
       "1           -42.128736          -46.621402          -53.255708   \n",
       "2           -40.833904          -43.269220          -44.225699   \n",
       "3           -41.491205          -46.728661          -45.278651   \n",
       "4           -43.262198          -43.991594          -47.693121   \n",
       "\n",
       "   Frequency_1dot9525  Frequency_2dot2779  Frequency_2dot6033  ...  \\\n",
       "0          -41.809600          -41.411157          -42.444672  ...   \n",
       "1          -56.017699          -59.087885          -62.249034  ...   \n",
       "2          -43.763521          -44.645556          -46.069485  ...   \n",
       "3          -46.840303          -48.153704          -48.827305  ...   \n",
       "4          -48.950286          -45.364605          -46.008724  ...   \n",
       "\n",
       "   Frequency_497dot234  Frequency_497dot5594  Frequency_497dot8848  \\\n",
       "0           -92.727267            -94.206407            -95.049497   \n",
       "1           -88.354186            -88.465816            -85.997244   \n",
       "2           -87.576766            -92.467630            -89.857615   \n",
       "3           -88.342649            -90.868922            -88.491640   \n",
       "4           -90.700178            -93.163671            -93.431828   \n",
       "\n",
       "   Frequency_498dot2102  Frequency_498dot5356  Frequency_498dot861  \\\n",
       "0            -92.151649            -94.120509           -95.140720   \n",
       "1            -87.914434            -88.387158           -89.374889   \n",
       "2            -86.389981            -85.861711           -88.080618   \n",
       "3            -89.537515            -89.388839           -90.235332   \n",
       "4            -90.653285            -93.611234           -90.997471   \n",
       "\n",
       "   Frequency_499dot1865  Frequency_499dot5119  Frequency_499dot8373  Label  \n",
       "0            -91.976042            -88.533568            -91.717852      1  \n",
       "1            -87.190449            -88.074054            -85.246747      1  \n",
       "2            -88.199254            -89.362906            -92.505462      1  \n",
       "3            -90.477474            -91.199705            -89.209511      1  \n",
       "4            -89.479312            -87.478921            -90.607241      1  \n",
       "\n",
       "[5 rows x 1539 columns]"
      ]
     },
     "execution_count": 3,
     "metadata": {},
     "output_type": "execute_result"
    }
   ],
   "source": [
    "spectrum_data[0:5]"
   ]
  },
  {
   "cell_type": "code",
   "execution_count": 7,
   "metadata": {},
   "outputs": [],
   "source": [
    "# define algorithm parameters\n",
    "NUM_TREES = 50  # num of estimators in RF\n",
    "IND_SIZE = 10   # subtree size\n",
    "POP_SIZE  = 30  \n",
    "CX_RATE = 0.8\n",
    "\n",
    "MUTATE_RATE = 1.0/IND_SIZE \n",
    "    \n",
    "    \n",
    "    \n",
    "# prepare data\n",
    "\n",
    "raw = spectrum_data.values\n",
    "\n",
    "X = raw[:, 0:1538]\n",
    "y = raw[:, 1538]\n",
    "\n",
    "X_train, X_test, y_train, y_test = train_test_split(X, y, test_size=0.25, random_state=random.randint(0,5000))\n",
    "\n",
    "\n",
    "model = RandomForestClassifier(n_estimators= NUM_TREES) # create a random forest with NUM_TREES = 20 \n",
    "model.fit(X_train, y_train) # train the model\n",
    "estimators = model.estimators_ # get all the trees"
   ]
  },
  {
   "cell_type": "code",
   "execution_count": 14,
   "metadata": {},
   "outputs": [
    {
     "data": {
      "text/plain": [
       "[DecisionTreeClassifier(class_weight=None, criterion='gini', max_depth=None,\n",
       "             max_features='auto', max_leaf_nodes=None,\n",
       "             min_impurity_decrease=0.0, min_impurity_split=None,\n",
       "             min_samples_leaf=1, min_samples_split=2,\n",
       "             min_weight_fraction_leaf=0.0, presort=False,\n",
       "             random_state=1546957914, splitter='best'),\n",
       " DecisionTreeClassifier(class_weight=None, criterion='gini', max_depth=None,\n",
       "             max_features='auto', max_leaf_nodes=None,\n",
       "             min_impurity_decrease=0.0, min_impurity_split=None,\n",
       "             min_samples_leaf=1, min_samples_split=2,\n",
       "             min_weight_fraction_leaf=0.0, presort=False,\n",
       "             random_state=1925914921, splitter='best'),\n",
       " DecisionTreeClassifier(class_weight=None, criterion='gini', max_depth=None,\n",
       "             max_features='auto', max_leaf_nodes=None,\n",
       "             min_impurity_decrease=0.0, min_impurity_split=None,\n",
       "             min_samples_leaf=1, min_samples_split=2,\n",
       "             min_weight_fraction_leaf=0.0, presort=False,\n",
       "             random_state=798145447, splitter='best')]"
      ]
     },
     "execution_count": 14,
     "metadata": {},
     "output_type": "execute_result"
    }
   ],
   "source": [
    "estimators[0:3]"
   ]
  },
  {
   "cell_type": "code",
   "execution_count": 9,
   "metadata": {},
   "outputs": [],
   "source": [
    "def sub_rf_predict(sub_rf, X_test):\n",
    "    \"\"\"\n",
    "    return the predict result using the sub_rf and X_test data;\n",
    "    the rule is that predict result(labels) with the maximum number of votes wins.\n",
    "    \"\"\"\n",
    "    predict_results = []\n",
    "    for tree in sub_rf:\n",
    "        prediction = tree.predict(X_test)\n",
    "        # record prediction result for a tree\n",
    "        predict_results.append(prediction)\n",
    "\n",
    "    # compute the vote_result, i.e. the final result\n",
    "    y_predict = [0]*len(X_test)\n",
    "    for idx in range(len(X_test)):\n",
    "        # for each test data\n",
    "        # create a vote result\n",
    "        v_result = vote_result()\n",
    "        for predict_tree in predict_results:\n",
    "            v_result[predict_tree[idx]] += 1\n",
    "\n",
    "        # final result\n",
    "        y_predict[idx] = keywithmaxval(v_result)\n",
    "\n",
    "    return  np.array(y_predict, dtype = float)\n",
    "\n",
    "# helper function\n",
    "y_set = set(y_test).union(y_train)\n",
    "def vote_result():\n",
    "    result = {}\n",
    "    for k in y_set:\n",
    "        result[k] = 0\n",
    "    return result\n",
    "\n",
    "def keywithmaxval(d):\n",
    "    \"\"\" a) create a list of the dict's keys and values; \n",
    "    b) return the key with the max value\"\"\"  \n",
    "    v=list(d.values())\n",
    "    k=list(d.keys())\n",
    "    return k[v.index(max(v))]"
   ]
  },
  {
   "cell_type": "code",
   "execution_count": 12,
   "metadata": {},
   "outputs": [
    {
     "data": {
      "text/plain": [
       "array([0., 1., 0., 0., 0., 0., 0., 2., 0., 0., 1., 2., 2., 1., 2., 1., 1.,\n",
       "       0., 1., 0., 0., 1., 1., 2., 1., 2., 0., 1., 2., 2., 0., 2., 1., 0.,\n",
       "       1., 1., 1., 0., 2., 1., 1., 1., 1., 0., 2.])"
      ]
     },
     "execution_count": 12,
     "metadata": {},
     "output_type": "execute_result"
    }
   ],
   "source": [
    "sub_rf_predict(estimators[0:3], X_test)"
   ]
  },
  {
   "cell_type": "code",
   "execution_count": 16,
   "metadata": {},
   "outputs": [
    {
     "data": {
      "text/plain": [
       "array([2., 1., 0., 2., 0., 1., 0., 0., 0., 2., 1., 2., 2., 1., 2., 1., 2.,\n",
       "       0., 1., 2., 2., 1., 2., 2., 2., 1., 1., 1., 2., 1., 0., 2., 1., 0.,\n",
       "       1., 1., 0., 1., 2., 1., 1., 1., 1., 1., 2.])"
      ]
     },
     "execution_count": 16,
     "metadata": {},
     "output_type": "execute_result"
    }
   ],
   "source": [
    "estimators[0].predict(X_test)"
   ]
  },
  {
   "cell_type": "code",
   "execution_count": 17,
   "metadata": {},
   "outputs": [
    {
     "data": {
      "text/plain": [
       "array([1., 1., 0., 0., 1., 0., 0., 2., 1., 1., 1., 2., 2., 1., 2., 1., 1.,\n",
       "       1., 1., 0., 0., 1., 1., 2., 1., 2., 0., 1., 2., 2., 1., 1., 0., 1.,\n",
       "       1., 1., 1., 0., 2., 1., 2., 1., 1., 0., 2.])"
      ]
     },
     "execution_count": 17,
     "metadata": {},
     "output_type": "execute_result"
    }
   ],
   "source": [
    "estimators[1].predict(X_test)"
   ]
  },
  {
   "cell_type": "code",
   "execution_count": 18,
   "metadata": {},
   "outputs": [
    {
     "data": {
      "text/plain": [
       "array([0., 0., 0., 1., 2., 0., 0., 2., 0., 0., 0., 0., 1., 1., 1., 2., 1.,\n",
       "       2., 1., 1., 0., 2., 1., 0., 1., 2., 0., 1., 2., 2., 0., 2., 1., 0.,\n",
       "       1., 0., 1., 0., 0., 0., 1., 2., 0., 0., 0.])"
      ]
     },
     "execution_count": 18,
     "metadata": {},
     "output_type": "execute_result"
    }
   ],
   "source": [
    "estimators[2].predict(X_test)"
   ]
  },
  {
   "cell_type": "code",
   "execution_count": 23,
   "metadata": {},
   "outputs": [],
   "source": [
    "score = accuracy_score(y_test, sub_rf_predict(estimators[0:50], X_test))"
   ]
  },
  {
   "cell_type": "code",
   "execution_count": 24,
   "metadata": {},
   "outputs": [
    {
     "data": {
      "text/plain": [
       "0.28888888888888886"
      ]
     },
     "execution_count": 24,
     "metadata": {},
     "output_type": "execute_result"
    }
   ],
   "source": [
    "score"
   ]
  },
  {
   "cell_type": "code",
   "execution_count": null,
   "metadata": {},
   "outputs": [],
   "source": []
  }
 ],
 "metadata": {
  "kernelspec": {
   "display_name": "Python 3",
   "language": "python",
   "name": "python3"
  },
  "language_info": {
   "codemirror_mode": {
    "name": "ipython",
    "version": 3
   },
   "file_extension": ".py",
   "mimetype": "text/x-python",
   "name": "python",
   "nbconvert_exporter": "python",
   "pygments_lexer": "ipython3",
   "version": "3.7.3"
  }
 },
 "nbformat": 4,
 "nbformat_minor": 2
}
